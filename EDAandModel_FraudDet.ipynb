{
 "cells": [
  {
   "cell_type": "code",
   "execution_count": 1,
   "metadata": {},
   "outputs": [],
   "source": [
    "# read and load the data using Pandas\n",
    "import pandas as pd\n",
    "\n",
    "data = pd.read_csv('train.csv')\n",
    "#use a copy of the dataset to avoid original data loss\n",
    "df = data.copy()"
   ]
  },
  {
   "cell_type": "code",
   "execution_count": 2,
   "metadata": {},
   "outputs": [
    {
     "data": {
      "text/html": [
       "<div>\n",
       "<style scoped>\n",
       "    .dataframe tbody tr th:only-of-type {\n",
       "        vertical-align: middle;\n",
       "    }\n",
       "\n",
       "    .dataframe tbody tr th {\n",
       "        vertical-align: top;\n",
       "    }\n",
       "\n",
       "    .dataframe thead th {\n",
       "        text-align: right;\n",
       "    }\n",
       "</style>\n",
       "<table border=\"1\" class=\"dataframe\">\n",
       "  <thead>\n",
       "    <tr style=\"text-align: right;\">\n",
       "      <th></th>\n",
       "      <th>Id</th>\n",
       "      <th>step</th>\n",
       "      <th>action</th>\n",
       "      <th>amount</th>\n",
       "      <th>nameOrig</th>\n",
       "      <th>oldBalanceOrig</th>\n",
       "      <th>newBalanceOrig</th>\n",
       "      <th>nameDest</th>\n",
       "      <th>oldBalanceDest</th>\n",
       "      <th>newBalanceDest</th>\n",
       "      <th>isFraud</th>\n",
       "      <th>isFlaggedFraud</th>\n",
       "    </tr>\n",
       "  </thead>\n",
       "  <tbody>\n",
       "    <tr>\n",
       "      <th>0</th>\n",
       "      <td>0</td>\n",
       "      <td>0</td>\n",
       "      <td>TRANSFER</td>\n",
       "      <td>10.00</td>\n",
       "      <td>C0198526315</td>\n",
       "      <td>30112.00</td>\n",
       "      <td>30102.00</td>\n",
       "      <td>C4653045645</td>\n",
       "      <td>21927.84</td>\n",
       "      <td>21937.84</td>\n",
       "      <td>0</td>\n",
       "      <td>0</td>\n",
       "    </tr>\n",
       "    <tr>\n",
       "      <th>1</th>\n",
       "      <td>1</td>\n",
       "      <td>1</td>\n",
       "      <td>CASH_IN</td>\n",
       "      <td>104925.19</td>\n",
       "      <td>C9864462944</td>\n",
       "      <td>42.23</td>\n",
       "      <td>104967.41</td>\n",
       "      <td>C7853342674</td>\n",
       "      <td>0.00</td>\n",
       "      <td>0.00</td>\n",
       "      <td>0</td>\n",
       "      <td>0</td>\n",
       "    </tr>\n",
       "    <tr>\n",
       "      <th>2</th>\n",
       "      <td>2</td>\n",
       "      <td>1</td>\n",
       "      <td>CASH_IN</td>\n",
       "      <td>37383.17</td>\n",
       "      <td>C1474610910</td>\n",
       "      <td>49.83</td>\n",
       "      <td>37433.01</td>\n",
       "      <td>C3584357969</td>\n",
       "      <td>0.00</td>\n",
       "      <td>0.00</td>\n",
       "      <td>0</td>\n",
       "      <td>0</td>\n",
       "    </tr>\n",
       "    <tr>\n",
       "      <th>3</th>\n",
       "      <td>3</td>\n",
       "      <td>1</td>\n",
       "      <td>CASH_IN</td>\n",
       "      <td>131908.49</td>\n",
       "      <td>C1474610910</td>\n",
       "      <td>37433.01</td>\n",
       "      <td>169341.49</td>\n",
       "      <td>C4996589500</td>\n",
       "      <td>0.00</td>\n",
       "      <td>0.00</td>\n",
       "      <td>0</td>\n",
       "      <td>0</td>\n",
       "    </tr>\n",
       "    <tr>\n",
       "      <th>4</th>\n",
       "      <td>4</td>\n",
       "      <td>1</td>\n",
       "      <td>CASH_IN</td>\n",
       "      <td>127105.65</td>\n",
       "      <td>C1474610910</td>\n",
       "      <td>169341.49</td>\n",
       "      <td>296447.14</td>\n",
       "      <td>C5989915138</td>\n",
       "      <td>0.00</td>\n",
       "      <td>0.00</td>\n",
       "      <td>0</td>\n",
       "      <td>0</td>\n",
       "    </tr>\n",
       "  </tbody>\n",
       "</table>\n",
       "</div>"
      ],
      "text/plain": [
       "   Id  step    action     amount     nameOrig  oldBalanceOrig  newBalanceOrig  \\\n",
       "0   0     0  TRANSFER      10.00  C0198526315        30112.00        30102.00   \n",
       "1   1     1   CASH_IN  104925.19  C9864462944           42.23       104967.41   \n",
       "2   2     1   CASH_IN   37383.17  C1474610910           49.83        37433.01   \n",
       "3   3     1   CASH_IN  131908.49  C1474610910        37433.01       169341.49   \n",
       "4   4     1   CASH_IN  127105.65  C1474610910       169341.49       296447.14   \n",
       "\n",
       "      nameDest  oldBalanceDest  newBalanceDest  isFraud  isFlaggedFraud  \n",
       "0  C4653045645        21927.84        21937.84        0               0  \n",
       "1  C7853342674            0.00            0.00        0               0  \n",
       "2  C3584357969            0.00            0.00        0               0  \n",
       "3  C4996589500            0.00            0.00        0               0  \n",
       "4  C5989915138            0.00            0.00        0               0  "
      ]
     },
     "execution_count": 2,
     "metadata": {},
     "output_type": "execute_result"
    }
   ],
   "source": [
    "# Take a look first 5 rows\n",
    "df.head()"
   ]
  },
  {
   "cell_type": "code",
   "execution_count": 3,
   "metadata": {},
   "outputs": [
    {
     "data": {
      "text/html": [
       "<div>\n",
       "<style scoped>\n",
       "    .dataframe tbody tr th:only-of-type {\n",
       "        vertical-align: middle;\n",
       "    }\n",
       "\n",
       "    .dataframe tbody tr th {\n",
       "        vertical-align: top;\n",
       "    }\n",
       "\n",
       "    .dataframe thead th {\n",
       "        text-align: right;\n",
       "    }\n",
       "</style>\n",
       "<table border=\"1\" class=\"dataframe\">\n",
       "  <thead>\n",
       "    <tr style=\"text-align: right;\">\n",
       "      <th></th>\n",
       "      <th>Id</th>\n",
       "      <th>step</th>\n",
       "      <th>action</th>\n",
       "      <th>amount</th>\n",
       "      <th>nameOrig</th>\n",
       "      <th>oldBalanceOrig</th>\n",
       "      <th>newBalanceOrig</th>\n",
       "      <th>nameDest</th>\n",
       "      <th>oldBalanceDest</th>\n",
       "      <th>newBalanceDest</th>\n",
       "      <th>isFraud</th>\n",
       "      <th>isFlaggedFraud</th>\n",
       "    </tr>\n",
       "  </thead>\n",
       "  <tbody>\n",
       "    <tr>\n",
       "      <th>2372800</th>\n",
       "      <td>3352878</td>\n",
       "      <td>718</td>\n",
       "      <td>TRANSFER</td>\n",
       "      <td>365959.08</td>\n",
       "      <td>C0575993734</td>\n",
       "      <td>9750032.16</td>\n",
       "      <td>9384073.08</td>\n",
       "      <td>C0205431023</td>\n",
       "      <td>7479928.58</td>\n",
       "      <td>7845887.66</td>\n",
       "      <td>0</td>\n",
       "      <td>0</td>\n",
       "    </tr>\n",
       "    <tr>\n",
       "      <th>2372801</th>\n",
       "      <td>3352879</td>\n",
       "      <td>718</td>\n",
       "      <td>CASH_OUT</td>\n",
       "      <td>51782.58</td>\n",
       "      <td>C8713379202</td>\n",
       "      <td>3457100.71</td>\n",
       "      <td>3405318.13</td>\n",
       "      <td>C2547402522</td>\n",
       "      <td>159726.22</td>\n",
       "      <td>159726.22</td>\n",
       "      <td>0</td>\n",
       "      <td>0</td>\n",
       "    </tr>\n",
       "    <tr>\n",
       "      <th>2372802</th>\n",
       "      <td>3352883</td>\n",
       "      <td>718</td>\n",
       "      <td>CASH_IN</td>\n",
       "      <td>74040.32</td>\n",
       "      <td>C4075734978</td>\n",
       "      <td>3009859.11</td>\n",
       "      <td>3083899.42</td>\n",
       "      <td>C2435516230</td>\n",
       "      <td>105711.72</td>\n",
       "      <td>105711.72</td>\n",
       "      <td>0</td>\n",
       "      <td>0</td>\n",
       "    </tr>\n",
       "    <tr>\n",
       "      <th>2372803</th>\n",
       "      <td>3352884</td>\n",
       "      <td>718</td>\n",
       "      <td>PAYMENT</td>\n",
       "      <td>11726.71</td>\n",
       "      <td>C8642260114</td>\n",
       "      <td>2980280.08</td>\n",
       "      <td>2968553.37</td>\n",
       "      <td>C5055233979</td>\n",
       "      <td>94282.56</td>\n",
       "      <td>106009.27</td>\n",
       "      <td>0</td>\n",
       "      <td>0</td>\n",
       "    </tr>\n",
       "    <tr>\n",
       "      <th>2372804</th>\n",
       "      <td>3352886</td>\n",
       "      <td>718</td>\n",
       "      <td>CASH_IN</td>\n",
       "      <td>115158.72</td>\n",
       "      <td>C0725945548</td>\n",
       "      <td>3599990.89</td>\n",
       "      <td>3715149.61</td>\n",
       "      <td>C1039537388</td>\n",
       "      <td>216298.60</td>\n",
       "      <td>216298.60</td>\n",
       "      <td>0</td>\n",
       "      <td>0</td>\n",
       "    </tr>\n",
       "  </tbody>\n",
       "</table>\n",
       "</div>"
      ],
      "text/plain": [
       "              Id  step    action     amount     nameOrig  oldBalanceOrig  \\\n",
       "2372800  3352878   718  TRANSFER  365959.08  C0575993734      9750032.16   \n",
       "2372801  3352879   718  CASH_OUT   51782.58  C8713379202      3457100.71   \n",
       "2372802  3352883   718   CASH_IN   74040.32  C4075734978      3009859.11   \n",
       "2372803  3352884   718   PAYMENT   11726.71  C8642260114      2980280.08   \n",
       "2372804  3352886   718   CASH_IN  115158.72  C0725945548      3599990.89   \n",
       "\n",
       "         newBalanceOrig     nameDest  oldBalanceDest  newBalanceDest  isFraud  \\\n",
       "2372800      9384073.08  C0205431023      7479928.58      7845887.66        0   \n",
       "2372801      3405318.13  C2547402522       159726.22       159726.22        0   \n",
       "2372802      3083899.42  C2435516230       105711.72       105711.72        0   \n",
       "2372803      2968553.37  C5055233979        94282.56       106009.27        0   \n",
       "2372804      3715149.61  C1039537388       216298.60       216298.60        0   \n",
       "\n",
       "         isFlaggedFraud  \n",
       "2372800               0  \n",
       "2372801               0  \n",
       "2372802               0  \n",
       "2372803               0  \n",
       "2372804               0  "
      ]
     },
     "execution_count": 3,
     "metadata": {},
     "output_type": "execute_result"
    }
   ],
   "source": [
    "# Take a look last 5 rows\n",
    "df.tail()"
   ]
  },
  {
   "cell_type": "code",
   "execution_count": 4,
   "metadata": {},
   "outputs": [
    {
     "data": {
      "text/html": [
       "<div>\n",
       "<style scoped>\n",
       "    .dataframe tbody tr th:only-of-type {\n",
       "        vertical-align: middle;\n",
       "    }\n",
       "\n",
       "    .dataframe tbody tr th {\n",
       "        vertical-align: top;\n",
       "    }\n",
       "\n",
       "    .dataframe thead th {\n",
       "        text-align: right;\n",
       "    }\n",
       "</style>\n",
       "<table border=\"1\" class=\"dataframe\">\n",
       "  <thead>\n",
       "    <tr style=\"text-align: right;\">\n",
       "      <th></th>\n",
       "      <th>Id</th>\n",
       "      <th>step</th>\n",
       "      <th>amount</th>\n",
       "      <th>oldBalanceOrig</th>\n",
       "      <th>newBalanceOrig</th>\n",
       "      <th>oldBalanceDest</th>\n",
       "      <th>newBalanceDest</th>\n",
       "      <th>isFraud</th>\n",
       "      <th>isFlaggedFraud</th>\n",
       "    </tr>\n",
       "  </thead>\n",
       "  <tbody>\n",
       "    <tr>\n",
       "      <th>count</th>\n",
       "      <td>2.372805e+06</td>\n",
       "      <td>2.372805e+06</td>\n",
       "      <td>2.372805e+06</td>\n",
       "      <td>2.372805e+06</td>\n",
       "      <td>2.372805e+06</td>\n",
       "      <td>2.372805e+06</td>\n",
       "      <td>2.372805e+06</td>\n",
       "      <td>2.372805e+06</td>\n",
       "      <td>2372805.0</td>\n",
       "    </tr>\n",
       "    <tr>\n",
       "      <th>mean</th>\n",
       "      <td>1.676995e+06</td>\n",
       "      <td>1.832920e+02</td>\n",
       "      <td>1.454519e+05</td>\n",
       "      <td>3.332226e+06</td>\n",
       "      <td>3.315864e+06</td>\n",
       "      <td>2.823591e+05</td>\n",
       "      <td>3.299378e+05</td>\n",
       "      <td>7.501670e-05</td>\n",
       "      <td>0.0</td>\n",
       "    </tr>\n",
       "    <tr>\n",
       "      <th>std</th>\n",
       "      <td>9.679376e+05</td>\n",
       "      <td>1.258774e+02</td>\n",
       "      <td>3.122165e+05</td>\n",
       "      <td>1.777183e+06</td>\n",
       "      <td>1.744702e+06</td>\n",
       "      <td>9.554569e+05</td>\n",
       "      <td>1.138435e+06</td>\n",
       "      <td>8.660895e-03</td>\n",
       "      <td>0.0</td>\n",
       "    </tr>\n",
       "    <tr>\n",
       "      <th>min</th>\n",
       "      <td>0.000000e+00</td>\n",
       "      <td>0.000000e+00</td>\n",
       "      <td>1.100000e-01</td>\n",
       "      <td>-1.959696e+05</td>\n",
       "      <td>-1.959696e+05</td>\n",
       "      <td>-1.439078e+05</td>\n",
       "      <td>-6.233257e+04</td>\n",
       "      <td>0.000000e+00</td>\n",
       "      <td>0.0</td>\n",
       "    </tr>\n",
       "    <tr>\n",
       "      <th>25%</th>\n",
       "      <td>8.383540e+05</td>\n",
       "      <td>4.400000e+01</td>\n",
       "      <td>1.436889e+04</td>\n",
       "      <td>2.563357e+06</td>\n",
       "      <td>2.559986e+06</td>\n",
       "      <td>2.179805e+04</td>\n",
       "      <td>2.391135e+04</td>\n",
       "      <td>0.000000e+00</td>\n",
       "      <td>0.0</td>\n",
       "    </tr>\n",
       "    <tr>\n",
       "      <th>50%</th>\n",
       "      <td>1.677475e+06</td>\n",
       "      <td>1.870000e+02</td>\n",
       "      <td>9.785308e+04</td>\n",
       "      <td>3.425072e+06</td>\n",
       "      <td>3.407159e+06</td>\n",
       "      <td>7.714657e+04</td>\n",
       "      <td>7.965216e+04</td>\n",
       "      <td>0.000000e+00</td>\n",
       "      <td>0.0</td>\n",
       "    </tr>\n",
       "    <tr>\n",
       "      <th>75%</th>\n",
       "      <td>2.515399e+06</td>\n",
       "      <td>2.650000e+02</td>\n",
       "      <td>1.714096e+05</td>\n",
       "      <td>4.117519e+06</td>\n",
       "      <td>4.089955e+06</td>\n",
       "      <td>1.414099e+05</td>\n",
       "      <td>1.443928e+05</td>\n",
       "      <td>0.000000e+00</td>\n",
       "      <td>0.0</td>\n",
       "    </tr>\n",
       "    <tr>\n",
       "      <th>max</th>\n",
       "      <td>3.352886e+06</td>\n",
       "      <td>7.180000e+02</td>\n",
       "      <td>2.026857e+07</td>\n",
       "      <td>4.955674e+07</td>\n",
       "      <td>4.882798e+07</td>\n",
       "      <td>4.783798e+07</td>\n",
       "      <td>4.799305e+07</td>\n",
       "      <td>1.000000e+00</td>\n",
       "      <td>0.0</td>\n",
       "    </tr>\n",
       "  </tbody>\n",
       "</table>\n",
       "</div>"
      ],
      "text/plain": [
       "                 Id          step        amount  oldBalanceOrig  \\\n",
       "count  2.372805e+06  2.372805e+06  2.372805e+06    2.372805e+06   \n",
       "mean   1.676995e+06  1.832920e+02  1.454519e+05    3.332226e+06   \n",
       "std    9.679376e+05  1.258774e+02  3.122165e+05    1.777183e+06   \n",
       "min    0.000000e+00  0.000000e+00  1.100000e-01   -1.959696e+05   \n",
       "25%    8.383540e+05  4.400000e+01  1.436889e+04    2.563357e+06   \n",
       "50%    1.677475e+06  1.870000e+02  9.785308e+04    3.425072e+06   \n",
       "75%    2.515399e+06  2.650000e+02  1.714096e+05    4.117519e+06   \n",
       "max    3.352886e+06  7.180000e+02  2.026857e+07    4.955674e+07   \n",
       "\n",
       "       newBalanceOrig  oldBalanceDest  newBalanceDest       isFraud  \\\n",
       "count    2.372805e+06    2.372805e+06    2.372805e+06  2.372805e+06   \n",
       "mean     3.315864e+06    2.823591e+05    3.299378e+05  7.501670e-05   \n",
       "std      1.744702e+06    9.554569e+05    1.138435e+06  8.660895e-03   \n",
       "min     -1.959696e+05   -1.439078e+05   -6.233257e+04  0.000000e+00   \n",
       "25%      2.559986e+06    2.179805e+04    2.391135e+04  0.000000e+00   \n",
       "50%      3.407159e+06    7.714657e+04    7.965216e+04  0.000000e+00   \n",
       "75%      4.089955e+06    1.414099e+05    1.443928e+05  0.000000e+00   \n",
       "max      4.882798e+07    4.783798e+07    4.799305e+07  1.000000e+00   \n",
       "\n",
       "       isFlaggedFraud  \n",
       "count       2372805.0  \n",
       "mean              0.0  \n",
       "std               0.0  \n",
       "min               0.0  \n",
       "25%               0.0  \n",
       "50%               0.0  \n",
       "75%               0.0  \n",
       "max               0.0  "
      ]
     },
     "execution_count": 4,
     "metadata": {},
     "output_type": "execute_result"
    }
   ],
   "source": [
    "# Describe the data\n",
    "df.describe()"
   ]
  },
  {
   "cell_type": "code",
   "execution_count": 5,
   "metadata": {},
   "outputs": [
    {
     "name": "stdout",
     "output_type": "stream",
     "text": [
      "<class 'pandas.core.frame.DataFrame'>\n",
      "RangeIndex: 2372805 entries, 0 to 2372804\n",
      "Data columns (total 12 columns):\n",
      " #   Column          Dtype  \n",
      "---  ------          -----  \n",
      " 0   Id              int64  \n",
      " 1   step            int64  \n",
      " 2   action          object \n",
      " 3   amount          float64\n",
      " 4   nameOrig        object \n",
      " 5   oldBalanceOrig  float64\n",
      " 6   newBalanceOrig  float64\n",
      " 7   nameDest        object \n",
      " 8   oldBalanceDest  float64\n",
      " 9   newBalanceDest  float64\n",
      " 10  isFraud         int64  \n",
      " 11  isFlaggedFraud  int64  \n",
      "dtypes: float64(5), int64(4), object(3)\n",
      "memory usage: 217.2+ MB\n"
     ]
    }
   ],
   "source": [
    "# Information of the data \n",
    "df.info()"
   ]
  },
  {
   "cell_type": "markdown",
   "metadata": {},
   "source": [
    "The description shows;\n",
    "\n",
    "how many column/feature are there - 12,\n",
    "how many rows are there (RangeIndex) - 2372805,\n",
    "feature/column names and their dtypes"
   ]
  },
  {
   "cell_type": "code",
   "execution_count": 6,
   "metadata": {},
   "outputs": [
    {
     "name": "stdout",
     "output_type": "stream",
     "text": [
      "Series([], dtype: int64)\n"
     ]
    }
   ],
   "source": [
    "# Number of missing values in each column of the data\n",
    "missing_val_count_by_column = (df.isnull().sum())\n",
    "print(missing_val_count_by_column[missing_val_count_by_column > 0])"
   ]
  },
  {
   "cell_type": "markdown",
   "metadata": {},
   "source": [
    "The result which is above shows that there is no missing value(null/none) include features and target.\n",
    "Therefore, do not need to impute missing values or drop the features which have missing values"
   ]
  },
  {
   "cell_type": "markdown",
   "metadata": {},
   "source": [
    "------------ Exploratory of DAta Analysis (EDA) -----------"
   ]
  },
  {
   "cell_type": "markdown",
   "metadata": {},
   "source": [
    "Feature descriptin:\n",
    "\n",
    "The data set consists of a table with numerous transactions. The meaning of each column is provided below:\n",
    "- step (int) - maps a unit of time in the real world. In this case 1 step is 1 hour of time\n",
    "- type (text) - CASH-IN, CASH-OUT, DEBIT, PAYMENT and TRANSFER.\n",
    "        - CASH-IN: the process of increasing the balance of account by paying in cash to a merchant\n",
    "        - CASH-OUT: it means to withdraw cash from a merchant which decreases the balance of the account\n",
    "        - DEBIT: the process of sending the money from the mobile money service to a bank account\n",
    "        - PAYMENT: process of paying for goods or services to merchants which decreases the balance of the account and  increases the balance of the receiver\n",
    "        - TRANSFER: process of sending money to another user of the service through the mobile money platform\n",
    "- amount (double) - amount of the transaction in local currency.\n",
    "- nameOrig (text) - customer who started the transaction\n",
    "- oldbalanceOrg (double) - initial balance before the transaction\n",
    "- newbalanceOrig (double) - new balance after the transaction\n",
    "- nameDest (text) - customer who is the recipient of the transaction\n",
    "- oldbalanceDest (double) - initial balance recipient before the transaction. Note that there is not information for       customers that start with M (Merchants).\n",
    "- newbalanceDest (double) - new balance recipient after the transaction. Note that there is not information for customers that start with M (Merchants).\n",
    "- isFraud (int) - if the transaction is fraudulent or not (0/1)\n",
    "- isFlaggedFraud (int) - an attempt to transfer more than 200.000 in a single transaction (0/1)"
   ]
  },
  {
   "cell_type": "markdown",
   "metadata": {},
   "source": [
    "isFraud target analyse"
   ]
  },
  {
   "cell_type": "code",
   "execution_count": 7,
   "metadata": {},
   "outputs": [
    {
     "name": "stdout",
     "output_type": "stream",
     "text": [
      "isFraud Distribution amount: \n",
      "0    2372627\n",
      "1        178\n",
      "Name: isFraud, dtype: int64\n"
     ]
    }
   ],
   "source": [
    "# The number of Frauded and not Fradued transactions\n",
    "print(f\"isFraud Distribution amount: \\n{df['isFraud'].value_counts()}\")"
   ]
  },
  {
   "cell_type": "code",
   "execution_count": 8,
   "metadata": {},
   "outputs": [
    {
     "name": "stdout",
     "output_type": "stream",
     "text": [
      "0    0.999925\n",
      "1    0.000075\n",
      "Name: isFraud, dtype: float64\n"
     ]
    }
   ],
   "source": [
    "# Fraud distribution Percentage\n",
    "print(df['isFraud'].value_counts(normalize= True))"
   ]
  },
  {
   "cell_type": "markdown",
   "metadata": {},
   "source": [
    "This result which is above show that  very little numbers of transactions are frauded. Therefore, usually should focus fradued transactions. "
   ]
  },
  {
   "cell_type": "markdown",
   "metadata": {},
   "source": [
    "FlaggedFraud analyse"
   ]
  },
  {
   "cell_type": "code",
   "execution_count": 9,
   "metadata": {},
   "outputs": [
    {
     "name": "stdout",
     "output_type": "stream",
     "text": [
      "0    2372805\n",
      "Name: isFlaggedFraud, dtype: int64\n"
     ]
    }
   ],
   "source": [
    "# When checked isFlaggedFraud feature, It does not contain given condition.\n",
    "print(df['isFlaggedFraud'].value_counts())\n"
   ]
  },
  {
   "cell_type": "code",
   "execution_count": 10,
   "metadata": {},
   "outputs": [],
   "source": [
    "# isFlaggedFraud column/feature filled according to the given condition\n",
    "df.loc[df['amount'] > 200000 , 'isFlaggedFraud'] = 1 "
   ]
  },
  {
   "cell_type": "code",
   "execution_count": 11,
   "metadata": {},
   "outputs": [
    {
     "name": "stdout",
     "output_type": "stream",
     "text": [
      "0    0.823398\n",
      "1    0.176602\n",
      "Name: isFlaggedFraud, dtype: float64\n"
     ]
    }
   ],
   "source": [
    "print(df['isFlaggedFraud'].value_counts(normalize= True))"
   ]
  },
  {
   "cell_type": "markdown",
   "metadata": {},
   "source": [
    "From the feature description, we know that isFlaggedFraud is when the system marked an illegal attempt to transfer more than 200.000 in a single transaction. But, we do not know how the system works. However, can clearly see that the amount of transaction with more than 200,000 in the 2.4 millions data and only 17% of them isFlaggedFraud. Since, It shows an unreliability information, can drop this feature in our further analysis or threshold number (200.000) can change or a range can be given ."
   ]
  },
  {
   "cell_type": "markdown",
   "metadata": {},
   "source": [
    "Step/hour analyse"
   ]
  },
  {
   "cell_type": "code",
   "execution_count": 12,
   "metadata": {},
   "outputs": [],
   "source": [
    "#convert hours(step) to day\n",
    "dayno = []\n",
    "dayhour = []\n",
    "for i in range(1,31):\n",
    "    dayno.append(i)\n",
    "for i in range(31):\n",
    "    dayhour.append(i*24)\n",
    "\n",
    "df['day'] =pd.cut(df['step'],dayhour, labels=dayno)\n",
    "df['day'].iloc[0] = 1\n",
    "df['day'] = df['day'].astype(int)"
   ]
  },
  {
   "cell_type": "code",
   "execution_count": 13,
   "metadata": {},
   "outputs": [
    {
     "data": {
      "image/png": "[encoded data removed]",
      "text/plain": [
       "<Figure size 432x288 with 1 Axes>"
      ]
     },
     "metadata": {
      "needs_background": "light"
     },
     "output_type": "display_data"
    }
   ],
   "source": [
    "import matplotlib.pyplot as plt\n",
    "import numpy as np\n",
    "\n",
    "a = df.groupby(['day']).mean()\n",
    "\n",
    "plt.scatter(a.index,a['isFraud'])\n",
    "\n",
    "plt.xticks(np.arange(0, 743/24, 1))\n",
    "plt.grid()"
   ]
  },
  {
   "cell_type": "markdown",
   "metadata": {},
   "source": [
    "When observed the figure, which is above, there are more Fraduded transactions at the second half of the month than the first half of the month.    "
   ]
  },
  {
   "cell_type": "markdown",
   "metadata": {},
   "source": [
    "Amount and balance features analyse"
   ]
  },
  {
   "cell_type": "code",
   "execution_count": 14,
   "metadata": {},
   "outputs": [],
   "source": [
    "df['ErrorDest'] = df['newBalanceDest'] - df['oldBalanceDest'] != df['amount']"
   ]
  },
  {
   "cell_type": "markdown",
   "metadata": {},
   "source": [
    "Initial number of rows/transactions were approximately 2.4 million. Now, have approximately 700.000 rows. "
   ]
  },
  {
   "cell_type": "code",
   "execution_count": 16,
   "metadata": {},
   "outputs": [
    {
     "data": {
      "text/plain": [
       "True     2276056\n",
       "False      96749\n",
       "Name: ErrorDest, dtype: int64"
      ]
     },
     "execution_count": 16,
     "metadata": {},
     "output_type": "execute_result"
    }
   ],
   "source": [
    "df['ErrorDest'].value_counts()"
   ]
  },
  {
   "cell_type": "code",
   "execution_count": 17,
   "metadata": {},
   "outputs": [],
   "source": [
    "df['ErrorOrig'] = df['newBalanceOrig'] - df['oldBalanceOrig'] != df['amount']*-1"
   ]
  },
  {
   "cell_type": "code",
   "execution_count": 18,
   "metadata": {},
   "outputs": [
    {
     "data": {
      "text/plain": [
       "True     2308219\n",
       "False      64586\n",
       "Name: ErrorOrig, dtype: int64"
      ]
     },
     "execution_count": 18,
     "metadata": {},
     "output_type": "execute_result"
    }
   ],
   "source": [
    "df['ErrorOrig'].value_counts()"
   ]
  },
  {
   "cell_type": "code",
   "execution_count": 19,
   "metadata": {},
   "outputs": [
    {
     "data": {
      "text/plain": [
       "Id       step  action    amount      nameOrig     oldBalanceOrig  newBalanceOrig  nameDest     oldBalanceDest  newBalanceDest  isFraud  isFlaggedFraud  day  ErrorDest  ErrorOrig\n",
       "0        0     TRANSFER  10.00       C0198526315  30112.00        30102.00        C4653045645  21927.84        21937.84        0        0               1    False      False        1\n",
       "2368786  258   PAYMENT   6161.50     C8421370346  4032550.30      4026388.80      C0455062881  156050.77       162212.27       0        0               11   False      False        1\n",
       "2370680  258   PAYMENT   20854.50    C2555601518  7699332.52      7678478.02      C8641491173  129646.91       150501.41       0        0               11   False      False        1\n",
       "2370312  258   TRANSFER  2096499.75  C9132643023  4466114.46      2369614.71      C8169619547  2810908.46      4907408.21      0        1               11   False      False        1\n",
       "2370278  258   TRANSFER  2811309.71  C8471629841  4093191.51      1281881.80      C7370794623  4222352.04      7033661.75      0        1               11   False      False        1\n",
       "                                                                                                                                                                                    ..\n",
       "1415404  163   PAYMENT   11680.50    C7418942810  4649422.31      4637741.81      C5991663709  68503.87        80184.37        0        0               7    False      False        1\n",
       "1415306  163   PAYMENT   2834.00     C1199172060  3870655.21      3867821.21      C6047930128  62361.35        65195.35        0        0               7    False      False        1\n",
       "1415056  163   TRANSFER  490719.23   C3387382324  4240630.29      3749911.06      C8963942907  3409650.39      3900369.62      0        1               7    False      False        1\n",
       "1414902  163   TRANSFER  56903.50    C3938645578  3047692.47      2990788.97      C1444765839  3197177.21      3254080.71      0        0               7    False      False        1\n",
       "3352793  718   PAYMENT   180.50      C3162704448  3513654.04      3513473.54      C3746913890  193991.29       194171.79       0        0               30   False      False        1\n",
       "Length: 21702, dtype: int64"
      ]
     },
     "execution_count": 19,
     "metadata": {},
     "output_type": "execute_result"
    }
   ],
   "source": [
    "df.loc[((df['ErrorOrig'] == False) & (df['ErrorDest'] == False))].value_counts()"
   ]
  },
  {
   "cell_type": "markdown",
   "metadata": {},
   "source": [
    "Number of False from writen condition, expected there are 178 false. Because, Frauded transcations are 178. This result shows the data is imbalanced. Therefore, amount and balance features will use firectly for mode."
   ]
  },
  {
   "cell_type": "markdown",
   "metadata": {},
   "source": [
    "Type analyse"
   ]
  },
  {
   "cell_type": "code",
   "execution_count": 20,
   "metadata": {},
   "outputs": [
    {
     "name": "stdout",
     "output_type": "stream",
     "text": [
      "These transaction types were detected as fraud: ['CASH_OUT' 'TRANSFER']\n"
     ]
    }
   ],
   "source": [
    "# Show which transaction types/actions were detected as fraud\n",
    "\n",
    "print(f\"These transaction types were detected as fraud: {df[df['isFraud']==1]['action'].unique()}\")"
   ]
  },
  {
   "cell_type": "markdown",
   "metadata": {},
   "source": [
    "This info provides very usefull. Except cash_out and transfer types/actions are useless"
   ]
  },
  {
   "cell_type": "code",
   "execution_count": 21,
   "metadata": {},
   "outputs": [
    {
     "data": {
      "text/plain": [
       "CASH_OUT    0.52809\n",
       "TRANSFER    0.47191\n",
       "Name: action, dtype: float64"
      ]
     },
     "execution_count": 21,
     "metadata": {},
     "output_type": "execute_result"
    }
   ],
   "source": [
    "# The distribution of the frauds by frauded actions\n",
    "df.loc[(df['isFraud']==1),'action'].value_counts(normalize=True)"
   ]
  },
  {
   "cell_type": "markdown",
   "metadata": {},
   "source": [
    "Summary of EDA:\n",
    "\n",
    "Analyses of each features show that:\n",
    "- amount and balance features are imbalanced and they should be uses in the model\n",
    "- Type features provided just action/type should use (transfer and cash-out). Also, they should be encoded for the model\n",
    "- isFlaggedFraud is useless from given condition. Therefore, it should be dropped\n",
    "- name textes are hashed text values and they are useless for this case\n",
    "- step can convert to days and it provides dividing the half by half. It helps the model "
   ]
  },
  {
   "cell_type": "markdown",
   "metadata": {},
   "source": [
    "Feature engineering and selection"
   ]
  },
  {
   "cell_type": "code",
   "execution_count": 22,
   "metadata": {},
   "outputs": [],
   "source": [
    "# Dropping the other types of transaction since fraud only detected on Transfer and Cash Out\n",
    "\n",
    "df.drop(df.loc[(df['action']!='CASH_OUT') & (df['action']!='TRANSFER')].index, inplace=True)"
   ]
  },
  {
   "cell_type": "code",
   "execution_count": 23,
   "metadata": {},
   "outputs": [
    {
     "name": "stdout",
     "output_type": "stream",
     "text": [
      "(699523, 16)\n"
     ]
    }
   ],
   "source": [
    "# resetting the index and check shape\n",
    "\n",
    "df.reset_index(inplace=True)\n",
    "print(df.shape)"
   ]
  },
  {
   "cell_type": "markdown",
   "metadata": {},
   "source": [
    "Initial number of rows/transactions were approximately 2.4 million. Now, have approximately 700.000 rows. "
   ]
  },
  {
   "cell_type": "code",
   "execution_count": 24,
   "metadata": {},
   "outputs": [],
   "source": [
    "# Encode the types transaction\n",
    "\n",
    "df['Type_encode'] = df['action'].map({'TRANSFER': 0, 'CASH_OUT': 1})"
   ]
  },
  {
   "cell_type": "code",
   "execution_count": 32,
   "metadata": {},
   "outputs": [],
   "source": [
    "# Encode the day\n",
    "\n",
    "df['day_encode'] = 1\n",
    "df.loc[df['day'] <= 15, 'day_encode'] = 0"
   ]
  },
  {
   "cell_type": "code",
   "execution_count": 36,
   "metadata": {},
   "outputs": [
    {
     "data": {
      "text/plain": [
       "Index(['index', 'Id', 'step', 'action', 'amount', 'nameOrig', 'oldBalanceOrig',\n",
       "       'newBalanceOrig', 'nameDest', 'oldBalanceDest', 'newBalanceDest',\n",
       "       'isFraud', 'isFlaggedFraud', 'day', 'ErrorDest', 'ErrorOrig',\n",
       "       'Type_encode', 'day_encode'],\n",
       "      dtype='object')"
      ]
     },
     "execution_count": 36,
     "metadata": {},
     "output_type": "execute_result"
    }
   ],
   "source": [
    "df.columns"
   ]
  },
  {
   "cell_type": "code",
   "execution_count": 37,
   "metadata": {},
   "outputs": [],
   "source": [
    "df1 = df.copy()"
   ]
  },
  {
   "cell_type": "code",
   "execution_count": 38,
   "metadata": {},
   "outputs": [],
   "source": [
    "# Drop useless features from the data\n",
    "\n",
    "df1.drop(columns=['index','Id','step','action','nameOrig','nameDest','isFlaggedFraud','day','ErrorDest','ErrorOrig'],inplace=True)"
   ]
  },
  {
   "cell_type": "code",
   "execution_count": 39,
   "metadata": {},
   "outputs": [
    {
     "data": {
      "text/plain": [
       "Index(['amount', 'oldBalanceOrig', 'newBalanceOrig', 'oldBalanceDest',\n",
       "       'newBalanceDest', 'isFraud', 'Type_encode', 'day_encode'],\n",
       "      dtype='object')"
      ]
     },
     "execution_count": 39,
     "metadata": {},
     "output_type": "execute_result"
    }
   ],
   "source": [
    "df1.columns"
   ]
  },
  {
   "cell_type": "markdown",
   "metadata": {},
   "source": [
    "------------------------- Model -----------------------"
   ]
  },
  {
   "cell_type": "code",
   "execution_count": 40,
   "metadata": {},
   "outputs": [],
   "source": [
    "y = df1.isFraud\n",
    "x_nostand = df1.drop(columns=['isFraud'])"
   ]
  },
  {
   "cell_type": "code",
   "execution_count": 41,
   "metadata": {},
   "outputs": [],
   "source": [
    "#standardize the values in each column\n",
    "X = (x_nostand-x_nostand.mean())/x_nostand.std()"
   ]
  },
  {
   "cell_type": "code",
   "execution_count": 42,
   "metadata": {},
   "outputs": [
    {
     "data": {
      "text/html": [
       "<div>\n",
       "<style scoped>\n",
       "    .dataframe tbody tr th:only-of-type {\n",
       "        vertical-align: middle;\n",
       "    }\n",
       "\n",
       "    .dataframe tbody tr th {\n",
       "        vertical-align: top;\n",
       "    }\n",
       "\n",
       "    .dataframe thead th {\n",
       "        text-align: right;\n",
       "    }\n",
       "</style>\n",
       "<table border=\"1\" class=\"dataframe\">\n",
       "  <thead>\n",
       "    <tr style=\"text-align: right;\">\n",
       "      <th></th>\n",
       "      <th>PC 1</th>\n",
       "      <th>PC 2</th>\n",
       "      <th>PC 3</th>\n",
       "      <th>PC 4</th>\n",
       "      <th>PC 5</th>\n",
       "    </tr>\n",
       "  </thead>\n",
       "  <tbody>\n",
       "    <tr>\n",
       "      <th>0</th>\n",
       "      <td>0.490758</td>\n",
       "      <td>-3.323125</td>\n",
       "      <td>0.040710</td>\n",
       "      <td>-0.734651</td>\n",
       "      <td>-1.975117</td>\n",
       "    </tr>\n",
       "    <tr>\n",
       "      <th>1</th>\n",
       "      <td>0.680505</td>\n",
       "      <td>-3.353544</td>\n",
       "      <td>-0.004499</td>\n",
       "      <td>-0.291038</td>\n",
       "      <td>-1.959681</td>\n",
       "    </tr>\n",
       "    <tr>\n",
       "      <th>2</th>\n",
       "      <td>-0.725060</td>\n",
       "      <td>-3.279630</td>\n",
       "      <td>0.047890</td>\n",
       "      <td>-0.088818</td>\n",
       "      <td>0.121539</td>\n",
       "    </tr>\n",
       "    <tr>\n",
       "      <th>3</th>\n",
       "      <td>-0.776534</td>\n",
       "      <td>-3.392226</td>\n",
       "      <td>0.069330</td>\n",
       "      <td>-0.215452</td>\n",
       "      <td>0.117330</td>\n",
       "    </tr>\n",
       "    <tr>\n",
       "      <th>4</th>\n",
       "      <td>0.561627</td>\n",
       "      <td>-3.351806</td>\n",
       "      <td>0.022859</td>\n",
       "      <td>-0.549696</td>\n",
       "      <td>-1.973983</td>\n",
       "    </tr>\n",
       "  </tbody>\n",
       "</table>\n",
       "</div>"
      ],
      "text/plain": [
       "       PC 1      PC 2      PC 3      PC 4      PC 5\n",
       "0  0.490758 -3.323125  0.040710 -0.734651 -1.975117\n",
       "1  0.680505 -3.353544 -0.004499 -0.291038 -1.959681\n",
       "2 -0.725060 -3.279630  0.047890 -0.088818  0.121539\n",
       "3 -0.776534 -3.392226  0.069330 -0.215452  0.117330\n",
       "4  0.561627 -3.351806  0.022859 -0.549696 -1.973983"
      ]
     },
     "execution_count": 42,
     "metadata": {},
     "output_type": "execute_result"
    }
   ],
   "source": [
    "from sklearn.decomposition import PCA\n",
    "pca_X = PCA(n_components=5)\n",
    "pca_X_fit = pca_X.fit_transform(X)\n",
    "\n",
    "pcaX_Df = pd.DataFrame(data = pca_X_fit\n",
    "             , columns = ['PC 1', 'PC 2','PC 3','PC 4','PC 5'])\n",
    "\n",
    "pcaX_Df.head()"
   ]
  },
  {
   "cell_type": "code",
   "execution_count": 43,
   "metadata": {},
   "outputs": [
    {
     "name": "stdout",
     "output_type": "stream",
     "text": [
      "explained variance ratio of the components): [0.4634817  0.28084788 0.14299244 0.08008624 0.02950503]\n"
     ]
    }
   ],
   "source": [
    "# Percentage of variance explained for each components\n",
    "print(\n",
    "    \"explained variance ratio of the components): %s\"\n",
    "    % str(pca_X.explained_variance_ratio_)\n",
    ")"
   ]
  },
  {
   "cell_type": "markdown",
   "metadata": {},
   "source": [
    "The result which is above show that first 2 principal component give %74"
   ]
  },
  {
   "cell_type": "code",
   "execution_count": 45,
   "metadata": {},
   "outputs": [
    {
     "data": {
      "image/png": "[encoded data removed]",
      "text/plain": [
       "<Figure size 432x288 with 1 Axes>"
      ]
     },
     "metadata": {
      "needs_background": "light"
     },
     "output_type": "display_data"
    }
   ],
   "source": [
    "import matplotlib.pyplot as plt\n",
    "\n",
    "plt.figure()\n",
    "colors = [\"navy\", \"turquoise\"]\n",
    "lw = 2\n",
    "\n",
    "for color, i, target_name in zip(colors, [0, 1, ], ['noFraud','isFraud']):\n",
    "    plt.scatter(\n",
    "        pca_X_fit[y == i, 0], pca_X_fit[y == i, 1], color=color, alpha=0.8, lw=lw, label=target_name\n",
    "    )\n",
    "plt.legend(loc=\"best\", shadow=False, scatterpoints=1)\n",
    "plt.title(\"first 2 PCA of Fraud\")\n",
    "\n",
    "plt.show()"
   ]
  },
  {
   "cell_type": "markdown",
   "metadata": {},
   "source": [
    "Metrics and Split"
   ]
  },
  {
   "cell_type": "code",
   "execution_count": 46,
   "metadata": {},
   "outputs": [],
   "source": [
    "f1 = []\n",
    "prec = []\n",
    "recall = []\n",
    "acc = []"
   ]
  },
  {
   "cell_type": "code",
   "execution_count": 47,
   "metadata": {},
   "outputs": [],
   "source": [
    "from sklearn.metrics import classification_report, confusion_matrix, recall_score, precision_score, f1_score, accuracy_score\n",
    "\n",
    "def evaluationMetrics(y_test, y_pred):\n",
    "    f1.append(f1_score(y_test,y_pred))\n",
    "    prec.append(precision_score(y_test, y_pred))\n",
    "    recall.append(recall_score(y_test, y_pred))\n",
    "    acc.append(accuracy_score(y_test, y_pred))"
   ]
  },
  {
   "cell_type": "code",
   "execution_count": 48,
   "metadata": {},
   "outputs": [],
   "source": [
    "metric = pd.DataFrame(index = ['Logistic Regression', 'Random Forest Classifier'])\n",
    "#metric = pd.DataFrame(index = ['Logistic Regression', 'Random Forest Classifier','Random Forest Classifier Tuned'])"
   ]
  },
  {
   "cell_type": "code",
   "execution_count": 49,
   "metadata": {},
   "outputs": [],
   "source": [
    "from sklearn.model_selection import train_test_split\n",
    "\n",
    "X_train, X_test, y_train, y_test = train_test_split(X, y , test_size=.2, stratify=y, random_state=21)"
   ]
  },
  {
   "cell_type": "markdown",
   "metadata": {},
   "source": [
    "Logistic Reggresion model"
   ]
  },
  {
   "cell_type": "code",
   "execution_count": 50,
   "metadata": {},
   "outputs": [],
   "source": [
    "from sklearn.linear_model import LogisticRegression\n",
    "\n",
    "ModelLR = LogisticRegression()\n",
    "ModelLR.fit(X_train,y_train)\n",
    "y_LR = ModelLR.predict(X_test)"
   ]
  },
  {
   "cell_type": "code",
   "execution_count": 51,
   "metadata": {},
   "outputs": [
    {
     "name": "stdout",
     "output_type": "stream",
     "text": [
      "              precision    recall  f1-score   support\n",
      "\n",
      "           0       1.00      1.00      1.00    139869\n",
      "           1       0.93      0.69      0.79        36\n",
      "\n",
      "    accuracy                           1.00    139905\n",
      "   macro avg       0.96      0.85      0.90    139905\n",
      "weighted avg       1.00      1.00      1.00    139905\n",
      "\n"
     ]
    }
   ],
   "source": [
    "print(classification_report(y_test, y_LR))\n",
    "evaluationMetrics(y_test,y_LR)"
   ]
  },
  {
   "cell_type": "code",
   "execution_count": 52,
   "metadata": {},
   "outputs": [
    {
     "data": {
      "image/png": "[encoded data removed]",
      "text/plain": [
       "<Figure size 432x288 with 2 Axes>"
      ]
     },
     "metadata": {
      "needs_background": "light"
     },
     "output_type": "display_data"
    }
   ],
   "source": [
    "import matplotlib.pyplot as plt\n",
    "import seaborn as sns\n",
    "\n",
    "cm_LR = confusion_matrix(y_test, y_LR, labels=[1 , 0])\n",
    "df_cm_LR = pd.DataFrame(data=cm_LR,index=[\"Act 1\" ,\"Act 0\"], columns=[\"Pred 1\", \"Pred 0\"])\n",
    "sns.heatmap(df_cm_LR, annot=True, fmt='d',cmap='magma');\n",
    "plt.title('Logistic Regression Confusion Matrix')\n",
    "plt.show()"
   ]
  },
  {
   "cell_type": "markdown",
   "metadata": {},
   "source": [
    "Random Forest model"
   ]
  },
  {
   "cell_type": "code",
   "execution_count": 53,
   "metadata": {},
   "outputs": [],
   "source": [
    "from sklearn.ensemble import RandomForestClassifier\n",
    "\n",
    "modelRF = RandomForestClassifier()\n",
    "modelRF.fit(X_train,y_train)\n",
    "y_RF = modelRF.predict(X_test)"
   ]
  },
  {
   "cell_type": "code",
   "execution_count": 54,
   "metadata": {},
   "outputs": [
    {
     "name": "stdout",
     "output_type": "stream",
     "text": [
      "              precision    recall  f1-score   support\n",
      "\n",
      "           0       1.00      1.00      1.00    139869\n",
      "           1       1.00      0.78      0.88        36\n",
      "\n",
      "    accuracy                           1.00    139905\n",
      "   macro avg       1.00      0.89      0.94    139905\n",
      "weighted avg       1.00      1.00      1.00    139905\n",
      "\n",
      "Train Score: 1.0\n",
      "Test Score: 0.9999428183410172\n"
     ]
    }
   ],
   "source": [
    "print(classification_report(y_test, y_RF))\n",
    "evaluationMetrics(y_test,y_RF)\n",
    "print(f\"Train Score: {modelRF.score(X_train, y_train)}\\nTest Score: {modelRF.score(X_test, y_test)}\")"
   ]
  },
  {
   "cell_type": "code",
   "execution_count": 55,
   "metadata": {},
   "outputs": [
    {
     "data": {
      "image/png": "[encoded data removed]",
      "text/plain": [
       "<Figure size 432x288 with 2 Axes>"
      ]
     },
     "metadata": {
      "needs_background": "light"
     },
     "output_type": "display_data"
    }
   ],
   "source": [
    "cm_RF = confusion_matrix(y_test, y_RF, labels=[1 , 0])\n",
    "df_cm_RF = pd.DataFrame(data=cm_RF,index=[\"Act 1\" ,\"Act 0\"], columns=[\"Pred 1\", \"Pred 0\"])\n",
    "sns.heatmap(df_cm_RF, annot=True, fmt=',d',cmap='magma');\n",
    "plt.title('Random Forest Confusion Matrix')\n",
    "plt.show()"
   ]
  },
  {
   "cell_type": "markdown",
   "metadata": {},
   "source": [
    "Results"
   ]
  },
  {
   "cell_type": "code",
   "execution_count": 56,
   "metadata": {},
   "outputs": [],
   "source": [
    "metric['F1-Score'] = f1\n",
    "metric['Recall'] = recall\n",
    "metric['Precision'] = prec\n",
    "metric['Accuracy'] = acc"
   ]
  },
  {
   "cell_type": "code",
   "execution_count": 57,
   "metadata": {},
   "outputs": [
    {
     "data": {
      "text/html": [
       "<div>\n",
       "<style scoped>\n",
       "    .dataframe tbody tr th:only-of-type {\n",
       "        vertical-align: middle;\n",
       "    }\n",
       "\n",
       "    .dataframe tbody tr th {\n",
       "        vertical-align: top;\n",
       "    }\n",
       "\n",
       "    .dataframe thead th {\n",
       "        text-align: right;\n",
       "    }\n",
       "</style>\n",
       "<table border=\"1\" class=\"dataframe\">\n",
       "  <thead>\n",
       "    <tr style=\"text-align: right;\">\n",
       "      <th></th>\n",
       "      <th>F1-Score</th>\n",
       "      <th>Recall</th>\n",
       "      <th>Precision</th>\n",
       "      <th>Accuracy</th>\n",
       "    </tr>\n",
       "  </thead>\n",
       "  <tbody>\n",
       "    <tr>\n",
       "      <th>Logistic Regression</th>\n",
       "      <td>0.793651</td>\n",
       "      <td>0.694444</td>\n",
       "      <td>0.925926</td>\n",
       "      <td>0.999907</td>\n",
       "    </tr>\n",
       "    <tr>\n",
       "      <th>Random Forest Classifier</th>\n",
       "      <td>0.875000</td>\n",
       "      <td>0.777778</td>\n",
       "      <td>1.000000</td>\n",
       "      <td>0.999943</td>\n",
       "    </tr>\n",
       "  </tbody>\n",
       "</table>\n",
       "</div>"
      ],
      "text/plain": [
       "                          F1-Score    Recall  Precision  Accuracy\n",
       "Logistic Regression       0.793651  0.694444   0.925926  0.999907\n",
       "Random Forest Classifier  0.875000  0.777778   1.000000  0.999943"
      ]
     },
     "execution_count": 57,
     "metadata": {},
     "output_type": "execute_result"
    }
   ],
   "source": [
    "metric.sort_index()"
   ]
  },
  {
   "cell_type": "markdown",
   "metadata": {},
   "source": [
    "Conclusion:\n",
    "- with Random Forest model, the model succeeded on lowering the errors on predicting a fraud as non fraud"
   ]
  }
 ],
 "metadata": {
  "interpreter": {
   "hash": "d8879fe20e92860495d03df4215dd07177dbdda9ee59489edf1c5ce57170ebda"
  },
  "kernelspec": {
   "display_name": "Python 3.9.7 64-bit",
   "language": "python",
   "name": "python3"
  },
  "language_info": {
   "codemirror_mode": {
    "name": "ipython",
    "version": 3
   },
   "file_extension": ".py",
   "mimetype": "text/x-python",
   "name": "python",
   "nbconvert_exporter": "python",
   "pygments_lexer": "ipython3",
   "version": "3.9.7"
  },
  "orig_nbformat": 4
 },
 "nbformat": 4,
 "nbformat_minor": 2
}
